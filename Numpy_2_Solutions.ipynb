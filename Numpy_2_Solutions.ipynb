{
  "nbformat": 4,
  "nbformat_minor": 0,
  "metadata": {
    "colab": {
      "provenance": []
    },
    "kernelspec": {
      "name": "python3",
      "display_name": "Python 3"
    },
    "language_info": {
      "name": "python"
    }
  },
  "cells": [
    {
      "cell_type": "code",
      "source": [
        "import numpy as np"
      ],
      "metadata": {
        "id": "qq8pXZLXbRqA"
      },
      "execution_count": 2,
      "outputs": []
    },
    {
      "cell_type": "markdown",
      "source": [
        "# Soru 1"
      ],
      "metadata": {
        "id": "9Lqpi1GPtsBD"
      }
    },
    {
      "cell_type": "code",
      "execution_count": 4,
      "metadata": {
        "id": "ghGA49k8tpBN",
        "colab": {
          "base_uri": "https://localhost:8080/"
        },
        "outputId": "b67d9ce7-354e-40a0-81a3-1250b65ebe1f"
      },
      "outputs": [
        {
          "output_type": "stream",
          "name": "stdout",
          "text": [
            "[[ 0  1]\n",
            " [ 2  3]\n",
            " [ 4  5]\n",
            " [ 6  7]\n",
            " [ 8  9]\n",
            " [10 11]\n",
            " [12 13]\n",
            " [14 15]\n",
            " [16 17]\n",
            " [18 19]\n",
            " [20 21]\n",
            " [22 23]\n",
            " [24 25]\n",
            " [26 27]\n",
            " [28 29]]\n"
          ]
        }
      ],
      "source": [
        "muz = np.arange(30).reshape(15,2)\n",
        "print(muz)"
      ]
    },
    {
      "cell_type": "markdown",
      "source": [
        "# Soru 2"
      ],
      "metadata": {
        "id": "OYHn95l_brED"
      }
    },
    {
      "cell_type": "code",
      "source": [
        "elma = np.random.randint(0,100,60).reshape(3,4,5)\n",
        "print(elma)"
      ],
      "metadata": {
        "colab": {
          "base_uri": "https://localhost:8080/"
        },
        "id": "TdreXF7abtEU",
        "outputId": "34ebb41b-3ad6-435c-f2ef-58077aeb2e5b"
      },
      "execution_count": 10,
      "outputs": [
        {
          "output_type": "stream",
          "name": "stdout",
          "text": [
            "[[[57 50 92 63 93]\n",
            "  [99 73 38 33 18]\n",
            "  [36 61 98 34 20]\n",
            "  [85 13 83 62 38]]\n",
            "\n",
            " [[40 28 50 85 65]\n",
            "  [57 87 78 18 74]\n",
            "  [96 15 59 86 71]\n",
            "  [98  3 24  3  4]]\n",
            "\n",
            " [[31 45 51 64 34]\n",
            "  [98 41 49 34 28]\n",
            "  [32 63 62 52 95]\n",
            "  [50 56 87 69 25]]]\n"
          ]
        }
      ]
    },
    {
      "cell_type": "code",
      "source": [
        "elma.shape"
      ],
      "metadata": {
        "colab": {
          "base_uri": "https://localhost:8080/"
        },
        "id": "JFLU8opBcOrl",
        "outputId": "c74f01ae-769d-42c4-c5c1-3ae49948258d"
      },
      "execution_count": 11,
      "outputs": [
        {
          "output_type": "execute_result",
          "data": {
            "text/plain": [
              "(3, 4, 5)"
            ]
          },
          "metadata": {},
          "execution_count": 11
        }
      ]
    },
    {
      "cell_type": "code",
      "source": [
        "elma.ndim"
      ],
      "metadata": {
        "colab": {
          "base_uri": "https://localhost:8080/"
        },
        "id": "BmBivvgWcREO",
        "outputId": "06439866-bfca-49d0-9293-5af58dfd7218"
      },
      "execution_count": 12,
      "outputs": [
        {
          "output_type": "execute_result",
          "data": {
            "text/plain": [
              "3"
            ]
          },
          "metadata": {},
          "execution_count": 12
        }
      ]
    },
    {
      "cell_type": "markdown",
      "source": [
        "# Soru 3"
      ],
      "metadata": {
        "id": "SAQJ7qG1cSvd"
      }
    },
    {
      "cell_type": "code",
      "source": [
        "kivi = np.random.randint(0,10, size = (4,5))\n",
        "print(kivi)"
      ],
      "metadata": {
        "colab": {
          "base_uri": "https://localhost:8080/"
        },
        "id": "Bk0oyr9JcUlI",
        "outputId": "e4e2d5a2-424d-4e24-ae98-cb9043d242b9"
      },
      "execution_count": 17,
      "outputs": [
        {
          "output_type": "stream",
          "name": "stdout",
          "text": [
            "[[0 2 3 9 6]\n",
            " [4 1 0 9 4]\n",
            " [6 4 6 7 8]\n",
            " [3 8 3 7 8]]\n"
          ]
        }
      ]
    },
    {
      "cell_type": "code",
      "source": [
        "kivi.reshape(-1)"
      ],
      "metadata": {
        "colab": {
          "base_uri": "https://localhost:8080/"
        },
        "id": "nIl0WY_BdSAZ",
        "outputId": "fec6ae57-b7c9-4d4a-fe96-76160a0399ba"
      },
      "execution_count": 18,
      "outputs": [
        {
          "output_type": "execute_result",
          "data": {
            "text/plain": [
              "array([0, 2, 3, 9, 6, 4, 1, 0, 9, 4, 6, 4, 6, 7, 8, 3, 8, 3, 7, 8])"
            ]
          },
          "metadata": {},
          "execution_count": 18
        }
      ]
    },
    {
      "cell_type": "code",
      "source": [
        "kivi.shape"
      ],
      "metadata": {
        "colab": {
          "base_uri": "https://localhost:8080/"
        },
        "id": "9SyL_EmLdX9B",
        "outputId": "ce897ce8-a77a-4ba3-ba61-9df1783848da"
      },
      "execution_count": 19,
      "outputs": [
        {
          "output_type": "execute_result",
          "data": {
            "text/plain": [
              "(4, 5)"
            ]
          },
          "metadata": {},
          "execution_count": 19
        }
      ]
    },
    {
      "cell_type": "code",
      "source": [
        "kivi.ndim"
      ],
      "metadata": {
        "colab": {
          "base_uri": "https://localhost:8080/"
        },
        "id": "d3K2qfqUdZPz",
        "outputId": "dd01d6c2-1e4d-4a5d-fda0-1ea660d54846"
      },
      "execution_count": 20,
      "outputs": [
        {
          "output_type": "execute_result",
          "data": {
            "text/plain": [
              "2"
            ]
          },
          "metadata": {},
          "execution_count": 20
        }
      ]
    },
    {
      "cell_type": "markdown",
      "source": [
        "# Soru 4"
      ],
      "metadata": {
        "id": "3bckujTfdbQy"
      }
    },
    {
      "cell_type": "code",
      "source": [
        "karma = np.random.randint(0,20,size = (4,5))\n",
        "print(karma)"
      ],
      "metadata": {
        "colab": {
          "base_uri": "https://localhost:8080/"
        },
        "id": "qWDgtaI2dcoc",
        "outputId": "1cef6f71-ce8f-4ec7-c5a6-e53d35b217ab"
      },
      "execution_count": 21,
      "outputs": [
        {
          "output_type": "stream",
          "name": "stdout",
          "text": [
            "[[19  7 10 11  1]\n",
            " [ 7  0  6 14 17]\n",
            " [11 18  7 15  7]\n",
            " [ 3  0 12  2  2]]\n"
          ]
        }
      ]
    },
    {
      "cell_type": "code",
      "source": [
        "# for\n",
        "\n",
        "for x in karma:\n",
        "  for y in x:\n",
        "    print(y)"
      ],
      "metadata": {
        "colab": {
          "base_uri": "https://localhost:8080/"
        },
        "id": "IXHdjFGmdzhH",
        "outputId": "1723378e-67eb-460d-9878-1afa8dad708d"
      },
      "execution_count": 22,
      "outputs": [
        {
          "output_type": "stream",
          "name": "stdout",
          "text": [
            "19\n",
            "7\n",
            "10\n",
            "11\n",
            "1\n",
            "7\n",
            "0\n",
            "6\n",
            "14\n",
            "17\n",
            "11\n",
            "18\n",
            "7\n",
            "15\n",
            "7\n",
            "3\n",
            "0\n",
            "12\n",
            "2\n",
            "2\n"
          ]
        }
      ]
    },
    {
      "cell_type": "code",
      "source": [
        "#nditer\n",
        "for x in np.nditer(karma):\n",
        "  print(x)"
      ],
      "metadata": {
        "colab": {
          "base_uri": "https://localhost:8080/"
        },
        "id": "qur2nUQSd7jp",
        "outputId": "c9f7e698-b7d1-40ad-93d0-de3da9cfb6e8"
      },
      "execution_count": 24,
      "outputs": [
        {
          "output_type": "stream",
          "name": "stdout",
          "text": [
            "19\n",
            "7\n",
            "10\n",
            "11\n",
            "1\n",
            "7\n",
            "0\n",
            "6\n",
            "14\n",
            "17\n",
            "11\n",
            "18\n",
            "7\n",
            "15\n",
            "7\n",
            "3\n",
            "0\n",
            "12\n",
            "2\n",
            "2\n"
          ]
        }
      ]
    },
    {
      "cell_type": "markdown",
      "source": [
        "# Soru 5"
      ],
      "metadata": {
        "id": "jk5SH0cFeDms"
      }
    },
    {
      "cell_type": "code",
      "source": [
        "ilk = np.array([5,10,15,20,25,30])\n",
        "son = np.array([1,2,3,4,5,6])"
      ],
      "metadata": {
        "id": "QhyHLOcCeFZE"
      },
      "execution_count": 27,
      "outputs": []
    },
    {
      "cell_type": "code",
      "source": [
        "ilk + son"
      ],
      "metadata": {
        "colab": {
          "base_uri": "https://localhost:8080/"
        },
        "id": "jonYR-JGeQxb",
        "outputId": "2ecb0b1c-67ec-495b-f247-b3b5c56e236a"
      },
      "execution_count": 28,
      "outputs": [
        {
          "output_type": "execute_result",
          "data": {
            "text/plain": [
              "array([ 6, 12, 18, 24, 30, 36])"
            ]
          },
          "metadata": {},
          "execution_count": 28
        }
      ]
    },
    {
      "cell_type": "code",
      "source": [
        "ilk - son"
      ],
      "metadata": {
        "colab": {
          "base_uri": "https://localhost:8080/"
        },
        "id": "q6wQK0QVejEa",
        "outputId": "c844e2bd-682a-42eb-8921-14ce04aac5bb"
      },
      "execution_count": 29,
      "outputs": [
        {
          "output_type": "execute_result",
          "data": {
            "text/plain": [
              "array([ 4,  8, 12, 16, 20, 24])"
            ]
          },
          "metadata": {},
          "execution_count": 29
        }
      ]
    },
    {
      "cell_type": "code",
      "source": [
        "ilk * son"
      ],
      "metadata": {
        "colab": {
          "base_uri": "https://localhost:8080/"
        },
        "id": "x6wXUqq1ekrV",
        "outputId": "553ba9f1-4e65-4298-cf24-3c2b9a1849ab"
      },
      "execution_count": 30,
      "outputs": [
        {
          "output_type": "execute_result",
          "data": {
            "text/plain": [
              "array([  5,  20,  45,  80, 125, 180])"
            ]
          },
          "metadata": {},
          "execution_count": 30
        }
      ]
    },
    {
      "cell_type": "code",
      "source": [
        "ilk / son"
      ],
      "metadata": {
        "colab": {
          "base_uri": "https://localhost:8080/"
        },
        "id": "do6tqBCdemSJ",
        "outputId": "fcdeaba4-d2d0-43ec-deca-a4b45e1f9207"
      },
      "execution_count": 31,
      "outputs": [
        {
          "output_type": "execute_result",
          "data": {
            "text/plain": [
              "array([5., 5., 5., 5., 5., 5.])"
            ]
          },
          "metadata": {},
          "execution_count": 31
        }
      ]
    },
    {
      "cell_type": "markdown",
      "source": [
        "# Soru 6"
      ],
      "metadata": {
        "id": "i1m5-wTmepBm"
      }
    },
    {
      "cell_type": "code",
      "source": [
        "kavun = np.random.randint(0,100,10)\n",
        "print(kavun)"
      ],
      "metadata": {
        "colab": {
          "base_uri": "https://localhost:8080/"
        },
        "id": "Jv6Kvm8BeqIQ",
        "outputId": "ba55a32c-1462-4941-e62f-2d51a87ee471"
      },
      "execution_count": 32,
      "outputs": [
        {
          "output_type": "stream",
          "name": "stdout",
          "text": [
            "[33 16 56 30 92 40 29 57 21 90]\n"
          ]
        }
      ]
    },
    {
      "cell_type": "code",
      "source": [
        "kavun.sum()"
      ],
      "metadata": {
        "colab": {
          "base_uri": "https://localhost:8080/"
        },
        "id": "KtLCAGsje3jV",
        "outputId": "b6d7cee4-8c79-41b3-d8a1-b7843a2cba13"
      },
      "execution_count": 33,
      "outputs": [
        {
          "output_type": "execute_result",
          "data": {
            "text/plain": [
              "464"
            ]
          },
          "metadata": {},
          "execution_count": 33
        }
      ]
    },
    {
      "cell_type": "code",
      "source": [
        "kavun.mean()"
      ],
      "metadata": {
        "colab": {
          "base_uri": "https://localhost:8080/"
        },
        "id": "GufgCj_Ue8O6",
        "outputId": "99a9891d-f4ee-4746-a313-c8489cfebce0"
      },
      "execution_count": 34,
      "outputs": [
        {
          "output_type": "execute_result",
          "data": {
            "text/plain": [
              "46.4"
            ]
          },
          "metadata": {},
          "execution_count": 34
        }
      ]
    },
    {
      "cell_type": "code",
      "source": [
        "kavun.max()"
      ],
      "metadata": {
        "colab": {
          "base_uri": "https://localhost:8080/"
        },
        "id": "DXMIZbw8e-Oe",
        "outputId": "79827ed0-0235-4622-b3cd-9789f8eeb317"
      },
      "execution_count": 35,
      "outputs": [
        {
          "output_type": "execute_result",
          "data": {
            "text/plain": [
              "92"
            ]
          },
          "metadata": {},
          "execution_count": 35
        }
      ]
    },
    {
      "cell_type": "code",
      "source": [
        "kavun.min()"
      ],
      "metadata": {
        "colab": {
          "base_uri": "https://localhost:8080/"
        },
        "id": "wMFDOyCofArz",
        "outputId": "ab5fc428-42f2-49c9-a58c-96a275a157e8"
      },
      "execution_count": 36,
      "outputs": [
        {
          "output_type": "execute_result",
          "data": {
            "text/plain": [
              "16"
            ]
          },
          "metadata": {},
          "execution_count": 36
        }
      ]
    },
    {
      "cell_type": "code",
      "source": [
        "kavun.var()"
      ],
      "metadata": {
        "colab": {
          "base_uri": "https://localhost:8080/"
        },
        "id": "UQD5kbRLfCYT",
        "outputId": "0b9a0c71-be81-4e6f-94f5-11fde8c2ca9f"
      },
      "execution_count": 37,
      "outputs": [
        {
          "output_type": "execute_result",
          "data": {
            "text/plain": [
              "654.6400000000001"
            ]
          },
          "metadata": {},
          "execution_count": 37
        }
      ]
    },
    {
      "cell_type": "code",
      "source": [
        "kavun.std()"
      ],
      "metadata": {
        "colab": {
          "base_uri": "https://localhost:8080/"
        },
        "id": "_RH3Mv7kfFEh",
        "outputId": "7ba3143f-6a10-48cd-ed9e-3afc362c557d"
      },
      "execution_count": 38,
      "outputs": [
        {
          "output_type": "execute_result",
          "data": {
            "text/plain": [
              "25.585933635495895"
            ]
          },
          "metadata": {},
          "execution_count": 38
        }
      ]
    },
    {
      "cell_type": "markdown",
      "source": [
        "# Soru 7"
      ],
      "metadata": {
        "id": "7voNYa18fJAs"
      }
    },
    {
      "cell_type": "code",
      "source": [
        "arr1 = np.arange(0,20)\n",
        "print(arr1)\n",
        "arr2 = np.arange(500,531)\n",
        "print(arr2)\n"
      ],
      "metadata": {
        "colab": {
          "base_uri": "https://localhost:8080/"
        },
        "id": "SuZSyJyHfKrX",
        "outputId": "1d1193e5-069b-418c-e96e-445356770566"
      },
      "execution_count": 42,
      "outputs": [
        {
          "output_type": "stream",
          "name": "stdout",
          "text": [
            "[ 0  1  2  3  4  5  6  7  8  9 10 11 12 13 14 15 16 17 18 19]\n",
            "[500 501 502 503 504 505 506 507 508 509 510 511 512 513 514 515 516 517\n",
            " 518 519 520 521 522 523 524 525 526 527 528 529 530]\n"
          ]
        }
      ]
    },
    {
      "cell_type": "code",
      "source": [
        "np.concatenate([arr1,arr2], axis = 0)"
      ],
      "metadata": {
        "colab": {
          "base_uri": "https://localhost:8080/"
        },
        "id": "YR5neFvxfvNd",
        "outputId": "1b487fb3-39e4-4b31-b243-a9054e41f190"
      },
      "execution_count": 43,
      "outputs": [
        {
          "output_type": "execute_result",
          "data": {
            "text/plain": [
              "array([  0,   1,   2,   3,   4,   5,   6,   7,   8,   9,  10,  11,  12,\n",
              "        13,  14,  15,  16,  17,  18,  19, 500, 501, 502, 503, 504, 505,\n",
              "       506, 507, 508, 509, 510, 511, 512, 513, 514, 515, 516, 517, 518,\n",
              "       519, 520, 521, 522, 523, 524, 525, 526, 527, 528, 529, 530])"
            ]
          },
          "metadata": {},
          "execution_count": 43
        }
      ]
    },
    {
      "cell_type": "markdown",
      "source": [
        "# Soru 8"
      ],
      "metadata": {
        "id": "kPZ77CsGf01S"
      }
    },
    {
      "cell_type": "code",
      "source": [
        "üzüm = np.arange(15,51)\n",
        "print(üzüm)\n",
        "muz = np.arange(10,101)\n",
        "print(muz)"
      ],
      "metadata": {
        "colab": {
          "base_uri": "https://localhost:8080/"
        },
        "id": "-oLQ8IQEf2M6",
        "outputId": "23722785-2247-447c-aaae-2bddad162ad9"
      },
      "execution_count": 45,
      "outputs": [
        {
          "output_type": "stream",
          "name": "stdout",
          "text": [
            "[15 16 17 18 19 20 21 22 23 24 25 26 27 28 29 30 31 32 33 34 35 36 37 38\n",
            " 39 40 41 42 43 44 45 46 47 48 49 50]\n",
            "[ 10  11  12  13  14  15  16  17  18  19  20  21  22  23  24  25  26  27\n",
            "  28  29  30  31  32  33  34  35  36  37  38  39  40  41  42  43  44  45\n",
            "  46  47  48  49  50  51  52  53  54  55  56  57  58  59  60  61  62  63\n",
            "  64  65  66  67  68  69  70  71  72  73  74  75  76  77  78  79  80  81\n",
            "  82  83  84  85  86  87  88  89  90  91  92  93  94  95  96  97  98  99\n",
            " 100]\n"
          ]
        }
      ]
    },
    {
      "cell_type": "code",
      "source": [
        "ba = np.concatenate([üzüm,muz], axis = 0)"
      ],
      "metadata": {
        "id": "DqFM1XuFgQ57"
      },
      "execution_count": 47,
      "outputs": []
    },
    {
      "cell_type": "code",
      "source": [
        "ba[25:51] = 888\n",
        "print(ba)"
      ],
      "metadata": {
        "colab": {
          "base_uri": "https://localhost:8080/"
        },
        "id": "7_ELFYCxgWeB",
        "outputId": "70de64ef-00c6-4fdc-a330-1bf628f6850a"
      },
      "execution_count": 51,
      "outputs": [
        {
          "output_type": "stream",
          "name": "stdout",
          "text": [
            "[ 15  16  17  18  19  20  21  22  23  24  25  26  27  28  29  30  31  32\n",
            "  33  34  35  36  37  38  39 888 888 888 888 888 888 888 888 888 888 888\n",
            " 888 888 888 888 888 888 888 888 888 888 888 888 888 888 888  25  26  27\n",
            "  28  29  30  31  32  33  34  35  36  37  38  39  40  41  42  43  44  45\n",
            "  46  47  48  49  50  51  52  53  54  55  56  57  58  59  60  61  62  63\n",
            "  64  65  66  67  68  69  70  71  72  73  74  75  76  77  78  79  80  81\n",
            "  82  83  84  85  86  87  88  89  90  91  92  93  94  95  96  97  98  99\n",
            " 100]\n"
          ]
        }
      ]
    },
    {
      "cell_type": "markdown",
      "source": [
        "# Soru 9"
      ],
      "metadata": {
        "id": "YK6nyZL3gtN4"
      }
    },
    {
      "cell_type": "code",
      "source": [
        "array1 = np.arange(0,40).reshape(8,5)\n",
        "print(array1)\n",
        "array2 = np.arange(320,360).reshape(8,5)\n",
        "print(array2)"
      ],
      "metadata": {
        "colab": {
          "base_uri": "https://localhost:8080/"
        },
        "id": "PWXeH3OXgut_",
        "outputId": "67656850-c081-405e-8dfe-7f17f21992d2"
      },
      "execution_count": 57,
      "outputs": [
        {
          "output_type": "stream",
          "name": "stdout",
          "text": [
            "[[ 0  1  2  3  4]\n",
            " [ 5  6  7  8  9]\n",
            " [10 11 12 13 14]\n",
            " [15 16 17 18 19]\n",
            " [20 21 22 23 24]\n",
            " [25 26 27 28 29]\n",
            " [30 31 32 33 34]\n",
            " [35 36 37 38 39]]\n",
            "[[320 321 322 323 324]\n",
            " [325 326 327 328 329]\n",
            " [330 331 332 333 334]\n",
            " [335 336 337 338 339]\n",
            " [340 341 342 343 344]\n",
            " [345 346 347 348 349]\n",
            " [350 351 352 353 354]\n",
            " [355 356 357 358 359]]\n"
          ]
        }
      ]
    },
    {
      "cell_type": "code",
      "source": [
        "np.concatenate([array1,array2],axis = 0)"
      ],
      "metadata": {
        "colab": {
          "base_uri": "https://localhost:8080/"
        },
        "id": "JmRRbgDohO2p",
        "outputId": "2ddcdeae-00ba-49ef-88a1-0575952bea6a"
      },
      "execution_count": 58,
      "outputs": [
        {
          "output_type": "execute_result",
          "data": {
            "text/plain": [
              "array([[  0,   1,   2,   3,   4],\n",
              "       [  5,   6,   7,   8,   9],\n",
              "       [ 10,  11,  12,  13,  14],\n",
              "       [ 15,  16,  17,  18,  19],\n",
              "       [ 20,  21,  22,  23,  24],\n",
              "       [ 25,  26,  27,  28,  29],\n",
              "       [ 30,  31,  32,  33,  34],\n",
              "       [ 35,  36,  37,  38,  39],\n",
              "       [320, 321, 322, 323, 324],\n",
              "       [325, 326, 327, 328, 329],\n",
              "       [330, 331, 332, 333, 334],\n",
              "       [335, 336, 337, 338, 339],\n",
              "       [340, 341, 342, 343, 344],\n",
              "       [345, 346, 347, 348, 349],\n",
              "       [350, 351, 352, 353, 354],\n",
              "       [355, 356, 357, 358, 359]])"
            ]
          },
          "metadata": {},
          "execution_count": 58
        }
      ]
    },
    {
      "cell_type": "code",
      "source": [
        "np.concatenate([array1,array2],axis = 1)"
      ],
      "metadata": {
        "colab": {
          "base_uri": "https://localhost:8080/"
        },
        "id": "32kzjVlqhTc3",
        "outputId": "77ea04d5-4918-41f5-a570-9a37cd2ff634"
      },
      "execution_count": 59,
      "outputs": [
        {
          "output_type": "execute_result",
          "data": {
            "text/plain": [
              "array([[  0,   1,   2,   3,   4, 320, 321, 322, 323, 324],\n",
              "       [  5,   6,   7,   8,   9, 325, 326, 327, 328, 329],\n",
              "       [ 10,  11,  12,  13,  14, 330, 331, 332, 333, 334],\n",
              "       [ 15,  16,  17,  18,  19, 335, 336, 337, 338, 339],\n",
              "       [ 20,  21,  22,  23,  24, 340, 341, 342, 343, 344],\n",
              "       [ 25,  26,  27,  28,  29, 345, 346, 347, 348, 349],\n",
              "       [ 30,  31,  32,  33,  34, 350, 351, 352, 353, 354],\n",
              "       [ 35,  36,  37,  38,  39, 355, 356, 357, 358, 359]])"
            ]
          },
          "metadata": {},
          "execution_count": 59
        }
      ]
    },
    {
      "cell_type": "markdown",
      "source": [
        "# Soru 10"
      ],
      "metadata": {
        "id": "kfZbbJE0hZq8"
      }
    },
    {
      "cell_type": "code",
      "source": [
        "# 9. sorudaki arrayleri axis = 2'de concatenate etmek için 3 boyutlu hale getirmeliyiz."
      ],
      "metadata": {
        "id": "lx8sl8G6hi2I"
      },
      "execution_count": null,
      "outputs": []
    },
    {
      "cell_type": "code",
      "source": [
        "array3d1=array1.reshape((2,4,5))"
      ],
      "metadata": {
        "id": "TsbewTXchoQP"
      },
      "execution_count": 77,
      "outputs": []
    },
    {
      "cell_type": "code",
      "source": [
        "array3d2= array2.reshape((2,4,5))"
      ],
      "metadata": {
        "id": "95tmc2QEhuWR"
      },
      "execution_count": 78,
      "outputs": []
    },
    {
      "cell_type": "code",
      "source": [
        "np.concatenate([array3d1,array3d2], axis = 2)"
      ],
      "metadata": {
        "colab": {
          "base_uri": "https://localhost:8080/"
        },
        "id": "hyLDAMFDhxID",
        "outputId": "8673cf06-71f1-4a5a-f375-dbd498997f6c"
      },
      "execution_count": 80,
      "outputs": [
        {
          "output_type": "execute_result",
          "data": {
            "text/plain": [
              "array([[[  0,   1,   2,   3,   4, 320, 321, 322, 323, 324],\n",
              "        [  5,   6,   7,   8,   9, 325, 326, 327, 328, 329],\n",
              "        [ 10,  11,  12,  13,  14, 330, 331, 332, 333, 334],\n",
              "        [ 15,  16,  17,  18,  19, 335, 336, 337, 338, 339]],\n",
              "\n",
              "       [[ 20,  21,  22,  23,  24, 340, 341, 342, 343, 344],\n",
              "        [ 25,  26,  27,  28,  29, 345, 346, 347, 348, 349],\n",
              "        [ 30,  31,  32,  33,  34, 350, 351, 352, 353, 354],\n",
              "        [ 35,  36,  37,  38,  39, 355, 356, 357, 358, 359]]])"
            ]
          },
          "metadata": {},
          "execution_count": 80
        }
      ]
    },
    {
      "cell_type": "markdown",
      "source": [
        "# Soru 11"
      ],
      "metadata": {
        "id": "3N5L7PnBjPAW"
      }
    },
    {
      "cell_type": "code",
      "source": [
        "array11= np.array([1,20,25,4,4,5,4,4,1,6,9,12,1,5])\n",
        "print(array11)"
      ],
      "metadata": {
        "colab": {
          "base_uri": "https://localhost:8080/"
        },
        "id": "xhYaV_pVjSiG",
        "outputId": "1db4ba92-fc3f-43c6-f609-431160c98998"
      },
      "execution_count": 85,
      "outputs": [
        {
          "output_type": "stream",
          "name": "stdout",
          "text": [
            "[ 1 20 25  4  4  5  4  4  1  6  9 12  1  5]\n"
          ]
        }
      ]
    },
    {
      "cell_type": "code",
      "source": [
        "np.where(array11 == 5)"
      ],
      "metadata": {
        "colab": {
          "base_uri": "https://localhost:8080/"
        },
        "id": "4yCayrCRjgzM",
        "outputId": "20c683f7-1065-4260-b3a0-5f9849a75fb7"
      },
      "execution_count": 86,
      "outputs": [
        {
          "output_type": "execute_result",
          "data": {
            "text/plain": [
              "(array([ 5, 13]),)"
            ]
          },
          "metadata": {},
          "execution_count": 86
        }
      ]
    },
    {
      "cell_type": "markdown",
      "source": [
        "# Soru 12"
      ],
      "metadata": {
        "id": "hBm2Da8Ej1wr"
      }
    },
    {
      "cell_type": "code",
      "source": [
        "np.where(array11%2 == 0 )"
      ],
      "metadata": {
        "colab": {
          "base_uri": "https://localhost:8080/"
        },
        "id": "IKPre1W1j2zW",
        "outputId": "78cd3b45-7758-4da1-d532-ac996b28af94"
      },
      "execution_count": 87,
      "outputs": [
        {
          "output_type": "execute_result",
          "data": {
            "text/plain": [
              "(array([ 1,  3,  4,  6,  7,  9, 11]),)"
            ]
          },
          "metadata": {},
          "execution_count": 87
        }
      ]
    },
    {
      "cell_type": "markdown",
      "source": [
        "# Soru 13"
      ],
      "metadata": {
        "id": "30z9ftzJkFNh"
      }
    },
    {
      "cell_type": "code",
      "source": [
        "np.where(array11 > 4)"
      ],
      "metadata": {
        "colab": {
          "base_uri": "https://localhost:8080/"
        },
        "id": "ouprq3bVkGY1",
        "outputId": "aa3fd3a9-f194-4a9e-d5fd-8eca0f9d4d7e"
      },
      "execution_count": 88,
      "outputs": [
        {
          "output_type": "execute_result",
          "data": {
            "text/plain": [
              "(array([ 1,  2,  5,  9, 10, 11, 13]),)"
            ]
          },
          "metadata": {},
          "execution_count": 88
        }
      ]
    },
    {
      "cell_type": "markdown",
      "source": [
        "# Soru 14"
      ],
      "metadata": {
        "id": "b_D88fXFkYKi"
      }
    },
    {
      "cell_type": "code",
      "source": [
        "np.where(array11%5 == 0)"
      ],
      "metadata": {
        "colab": {
          "base_uri": "https://localhost:8080/"
        },
        "id": "x7a6koRNkaMq",
        "outputId": "2e2a3d91-d1af-4a0e-c82e-9fea78165e92"
      },
      "execution_count": 89,
      "outputs": [
        {
          "output_type": "execute_result",
          "data": {
            "text/plain": [
              "(array([ 1,  2,  5, 13]),)"
            ]
          },
          "metadata": {},
          "execution_count": 89
        }
      ]
    },
    {
      "cell_type": "markdown",
      "source": [
        "# Soru 15"
      ],
      "metadata": {
        "id": "AdGj5DVkklK6"
      }
    },
    {
      "cell_type": "code",
      "source": [
        "np.random.randint(85,101)"
      ],
      "metadata": {
        "colab": {
          "base_uri": "https://localhost:8080/"
        },
        "id": "NfHNS_YqkmH_",
        "outputId": "e4c5113b-49aa-4004-dc6b-ce24f33e902c"
      },
      "execution_count": 100,
      "outputs": [
        {
          "output_type": "execute_result",
          "data": {
            "text/plain": [
              "96"
            ]
          },
          "metadata": {},
          "execution_count": 100
        }
      ]
    },
    {
      "cell_type": "markdown",
      "source": [
        "# Soru 16"
      ],
      "metadata": {
        "id": "Oyvd6xPNl72n"
      }
    },
    {
      "cell_type": "code",
      "source": [
        "ikiler = np.random.randint(10,100, size = (3,3))\n",
        "print(ikiler)"
      ],
      "metadata": {
        "colab": {
          "base_uri": "https://localhost:8080/"
        },
        "id": "9cdBN653mPlF",
        "outputId": "3857306a-bf13-485c-a539-047d69e85869"
      },
      "execution_count": 93,
      "outputs": [
        {
          "output_type": "stream",
          "name": "stdout",
          "text": [
            "[[97 39 87]\n",
            " [12 38 48]\n",
            " [44 52 25]]\n"
          ]
        }
      ]
    },
    {
      "cell_type": "markdown",
      "source": [
        "# Soru 17"
      ],
      "metadata": {
        "id": "XLTFoHmomf04"
      }
    },
    {
      "cell_type": "code",
      "source": [
        "of = np.random.randint(35,60,10)\n",
        "print(of)"
      ],
      "metadata": {
        "colab": {
          "base_uri": "https://localhost:8080/"
        },
        "id": "sVuSX-8KmhGx",
        "outputId": "dfe47680-f6dc-467e-a6c4-478ad94924ab"
      },
      "execution_count": 95,
      "outputs": [
        {
          "output_type": "stream",
          "name": "stdout",
          "text": [
            "[52 44 45 41 56 53 44 53 57 55]\n"
          ]
        }
      ]
    },
    {
      "cell_type": "code",
      "source": [
        "np.random.choice(of)"
      ],
      "metadata": {
        "colab": {
          "base_uri": "https://localhost:8080/"
        },
        "id": "3qxpeup7mu4E",
        "outputId": "c9ee0c82-de90-4277-bcf2-58e8c63007e4"
      },
      "execution_count": 96,
      "outputs": [
        {
          "output_type": "execute_result",
          "data": {
            "text/plain": [
              "52"
            ]
          },
          "metadata": {},
          "execution_count": 96
        }
      ]
    },
    {
      "cell_type": "markdown",
      "source": [
        "# Soru 18"
      ],
      "metadata": {
        "id": "llNT0rp7my0E"
      }
    },
    {
      "cell_type": "code",
      "source": [
        "sadece = np.array([3,8,10,53,3,8,10,53,3,8]).reshape(2,5)\n",
        "print(sadece)"
      ],
      "metadata": {
        "colab": {
          "base_uri": "https://localhost:8080/"
        },
        "id": "2EB6DN55m1Su",
        "outputId": "632469c6-cd48-47ee-a93d-66cb35a1d1a0"
      },
      "execution_count": 99,
      "outputs": [
        {
          "output_type": "stream",
          "name": "stdout",
          "text": [
            "[[ 3  8 10 53  3]\n",
            " [ 8 10 53  3  8]]\n"
          ]
        }
      ]
    }
  ]
}