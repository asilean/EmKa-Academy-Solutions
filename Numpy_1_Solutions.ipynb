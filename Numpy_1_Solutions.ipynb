{
  "nbformat": 4,
  "nbformat_minor": 0,
  "metadata": {
    "colab": {
      "provenance": []
    },
    "kernelspec": {
      "name": "python3",
      "display_name": "Python 3"
    },
    "language_info": {
      "name": "python"
    }
  },
  "cells": [
    {
      "cell_type": "markdown",
      "source": [
        "# Soru 1"
      ],
      "metadata": {
        "id": "DwuINPGxiGzB"
      }
    },
    {
      "cell_type": "code",
      "source": [
        "import numpy as np"
      ],
      "metadata": {
        "id": "aFe3PD_rj3fE"
      },
      "execution_count": null,
      "outputs": []
    },
    {
      "cell_type": "code",
      "source": [
        "array3d = np.array([[[1,2,3], [4,5,6]]])\n",
        "array3d"
      ],
      "metadata": {
        "colab": {
          "base_uri": "https://localhost:8080/"
        },
        "id": "rI0j-CK3iICh",
        "outputId": "b31bb49b-a67f-40b7-8362-fd3efc04fbf2"
      },
      "execution_count": null,
      "outputs": [
        {
          "output_type": "execute_result",
          "data": {
            "text/plain": [
              "array([[[1, 2, 3],\n",
              "        [4, 5, 6]]])"
            ]
          },
          "metadata": {},
          "execution_count": 8
        }
      ]
    },
    {
      "cell_type": "code",
      "source": [
        "print(array3d.ndim)"
      ],
      "metadata": {
        "colab": {
          "base_uri": "https://localhost:8080/"
        },
        "id": "VnEp4qsWkOrm",
        "outputId": "b8f47895-3833-4c09-9867-e63d5ded81f7"
      },
      "execution_count": null,
      "outputs": [
        {
          "output_type": "stream",
          "name": "stdout",
          "text": [
            "3\n"
          ]
        }
      ]
    },
    {
      "cell_type": "markdown",
      "source": [
        "# Soru 2"
      ],
      "metadata": {
        "id": "zVz8EPmBkv92"
      }
    },
    {
      "cell_type": "code",
      "source": [
        "np.array([])\n",
        "np.arange(30,118,6)"
      ],
      "metadata": {
        "colab": {
          "base_uri": "https://localhost:8080/"
        },
        "id": "8_eGdSCZkxdj",
        "outputId": "da1f2004-2476-454b-ec7e-ce71c5b1c2fa"
      },
      "execution_count": null,
      "outputs": [
        {
          "output_type": "execute_result",
          "data": {
            "text/plain": [
              "array([ 30,  36,  42,  48,  54,  60,  66,  72,  78,  84,  90,  96, 102,\n",
              "       108, 114])"
            ]
          },
          "metadata": {},
          "execution_count": 16
        }
      ]
    },
    {
      "cell_type": "markdown",
      "source": [
        "# Soru 3"
      ],
      "metadata": {
        "id": "ebeeKJpAlscQ"
      }
    },
    {
      "cell_type": "code",
      "source": [
        "np.array([])\n",
        "array91 = np.linspace(50,500,91,dtype=int)\n",
        "len(array91)\n"
      ],
      "metadata": {
        "colab": {
          "base_uri": "https://localhost:8080/"
        },
        "id": "Q0L1AlUIluVK",
        "outputId": "907b7f17-d13d-4588-dae8-deecf9bac743"
      },
      "execution_count": null,
      "outputs": [
        {
          "output_type": "execute_result",
          "data": {
            "text/plain": [
              "91"
            ]
          },
          "metadata": {},
          "execution_count": 22
        }
      ]
    },
    {
      "cell_type": "markdown",
      "source": [
        "# Soru 4"
      ],
      "metadata": {
        "id": "pj3V0usJoqwE"
      }
    },
    {
      "cell_type": "code",
      "source": [
        "np.logspace(2,5,8)"
      ],
      "metadata": {
        "colab": {
          "base_uri": "https://localhost:8080/"
        },
        "id": "1UGW4mB6osfK",
        "outputId": "11ce3c20-566e-44ca-e8fd-8fd3aa09535d"
      },
      "execution_count": null,
      "outputs": [
        {
          "output_type": "execute_result",
          "data": {
            "text/plain": [
              "array([   100.        ,    268.26957953,    719.685673  ,   1930.69772888,\n",
              "         5179.47467923,  13894.95494373,  37275.93720315, 100000.        ])"
            ]
          },
          "metadata": {},
          "execution_count": 23
        }
      ]
    },
    {
      "cell_type": "markdown",
      "source": [
        "# Soru 5"
      ],
      "metadata": {
        "id": "dtQ1hy29pT4M"
      }
    },
    {
      "cell_type": "code",
      "source": [
        "array3x3 = np.arange(0,9).reshape(3,3)\n",
        "print(array3x3)"
      ],
      "metadata": {
        "colab": {
          "base_uri": "https://localhost:8080/"
        },
        "id": "sfVb1QvTpWIe",
        "outputId": "ba8b6b3e-3484-4ff1-d9ed-b039e688a05c"
      },
      "execution_count": null,
      "outputs": [
        {
          "output_type": "stream",
          "name": "stdout",
          "text": [
            "[[0 1 2]\n",
            " [3 4 5]\n",
            " [6 7 8]]\n"
          ]
        }
      ]
    },
    {
      "cell_type": "markdown",
      "source": [
        "# Soru 6"
      ],
      "metadata": {
        "id": "7U1hvyg6flMS"
      }
    },
    {
      "cell_type": "code",
      "source": [
        "np.zeros((6,6), dtype=int)"
      ],
      "metadata": {
        "colab": {
          "base_uri": "https://localhost:8080/"
        },
        "id": "Cye_xYVBfmrP",
        "outputId": "5821876b-56d0-43e6-9670-83a79223330f"
      },
      "execution_count": null,
      "outputs": [
        {
          "output_type": "execute_result",
          "data": {
            "text/plain": [
              "array([[0, 0, 0, 0, 0, 0],\n",
              "       [0, 0, 0, 0, 0, 0],\n",
              "       [0, 0, 0, 0, 0, 0],\n",
              "       [0, 0, 0, 0, 0, 0],\n",
              "       [0, 0, 0, 0, 0, 0],\n",
              "       [0, 0, 0, 0, 0, 0]])"
            ]
          },
          "metadata": {},
          "execution_count": 6
        }
      ]
    },
    {
      "cell_type": "markdown",
      "source": [
        "# Soru 7"
      ],
      "metadata": {
        "id": "x8WErb_dgGwl"
      }
    },
    {
      "cell_type": "code",
      "source": [
        "np.ones((4,4), dtype=int)"
      ],
      "metadata": {
        "colab": {
          "base_uri": "https://localhost:8080/"
        },
        "id": "dVKWfqLjgMd_",
        "outputId": "5fb33933-f2ac-448a-9ec7-0e18a8aa788b"
      },
      "execution_count": null,
      "outputs": [
        {
          "output_type": "execute_result",
          "data": {
            "text/plain": [
              "array([[1, 1, 1, 1],\n",
              "       [1, 1, 1, 1],\n",
              "       [1, 1, 1, 1],\n",
              "       [1, 1, 1, 1]])"
            ]
          },
          "metadata": {},
          "execution_count": 8
        }
      ]
    },
    {
      "cell_type": "markdown",
      "source": [
        "# Soru 8"
      ],
      "metadata": {
        "id": "xSiKvyoagVzz"
      }
    },
    {
      "cell_type": "code",
      "source": [
        "np.eye(8,dtype=int)"
      ],
      "metadata": {
        "colab": {
          "base_uri": "https://localhost:8080/"
        },
        "id": "Vgiyb6LMgY4O",
        "outputId": "ee58c930-fc57-4c10-cb30-df2e5abf247e"
      },
      "execution_count": null,
      "outputs": [
        {
          "output_type": "execute_result",
          "data": {
            "text/plain": [
              "array([[1, 0, 0, 0, 0, 0, 0, 0],\n",
              "       [0, 1, 0, 0, 0, 0, 0, 0],\n",
              "       [0, 0, 1, 0, 0, 0, 0, 0],\n",
              "       [0, 0, 0, 1, 0, 0, 0, 0],\n",
              "       [0, 0, 0, 0, 1, 0, 0, 0],\n",
              "       [0, 0, 0, 0, 0, 1, 0, 0],\n",
              "       [0, 0, 0, 0, 0, 0, 1, 0],\n",
              "       [0, 0, 0, 0, 0, 0, 0, 1]])"
            ]
          },
          "metadata": {},
          "execution_count": 10
        }
      ]
    },
    {
      "cell_type": "markdown",
      "source": [
        "#Soru 9"
      ],
      "metadata": {
        "id": "FQ6i9Ypfgh65"
      }
    },
    {
      "cell_type": "code",
      "source": [
        "matris = np.zeros((5, 5), dtype=int)\n",
        "np.fill_diagonal(matris, 3)\n",
        "\n",
        "print(matris)"
      ],
      "metadata": {
        "colab": {
          "base_uri": "https://localhost:8080/"
        },
        "id": "f6hdawHigjQn",
        "outputId": "22d8c25d-485e-4b7c-f7be-e4df5af72a50"
      },
      "execution_count": null,
      "outputs": [
        {
          "output_type": "stream",
          "name": "stdout",
          "text": [
            "[[3 0 0 0 0]\n",
            " [0 3 0 0 0]\n",
            " [0 0 3 0 0]\n",
            " [0 0 0 3 0]\n",
            " [0 0 0 0 3]]\n"
          ]
        }
      ]
    },
    {
      "cell_type": "markdown",
      "source": [
        "#Soru 10"
      ],
      "metadata": {
        "id": "NYNPaIX2ixK8"
      }
    },
    {
      "cell_type": "code",
      "source": [
        "np.random.rand(6)"
      ],
      "metadata": {
        "colab": {
          "base_uri": "https://localhost:8080/"
        },
        "id": "YBssmAw-iytY",
        "outputId": "290e6dd1-cae9-4b9f-ea84-ffd79357f7fe"
      },
      "execution_count": null,
      "outputs": [
        {
          "output_type": "execute_result",
          "data": {
            "text/plain": [
              "array([0.38702641, 0.67087559, 0.06876907, 0.2075923 , 0.16735887,\n",
              "       0.6094084 ])"
            ]
          },
          "metadata": {},
          "execution_count": 21
        }
      ]
    },
    {
      "cell_type": "markdown",
      "source": [
        "#Soru 11"
      ],
      "metadata": {
        "id": "yClpxWFoi6Wv"
      }
    },
    {
      "cell_type": "code",
      "source": [
        "armut = np.random.randint(50,101,(5,2))\n",
        "print(armut)"
      ],
      "metadata": {
        "colab": {
          "base_uri": "https://localhost:8080/"
        },
        "id": "J4Q4OC5Ti7gr",
        "outputId": "33df79fc-7e41-4d7d-b761-cca6b28a87e7"
      },
      "execution_count": null,
      "outputs": [
        {
          "output_type": "stream",
          "name": "stdout",
          "text": [
            "[[92 73]\n",
            " [61 86]\n",
            " [95 96]\n",
            " [51 54]\n",
            " [84 50]]\n"
          ]
        }
      ]
    },
    {
      "cell_type": "code",
      "source": [
        "armut.shape"
      ],
      "metadata": {
        "colab": {
          "base_uri": "https://localhost:8080/"
        },
        "id": "0plFyGx8joHW",
        "outputId": "5065d9a3-09b7-4e1c-f291-12eae54faa6c"
      },
      "execution_count": null,
      "outputs": [
        {
          "output_type": "execute_result",
          "data": {
            "text/plain": [
              "(5, 2)"
            ]
          },
          "metadata": {},
          "execution_count": 28
        }
      ]
    },
    {
      "cell_type": "markdown",
      "source": [
        "# Soru 12"
      ],
      "metadata": {
        "id": "TogBFV91jsmf"
      }
    },
    {
      "cell_type": "code",
      "source": [
        "elma = np.random.randint(100,1000,(2,5,5))\n",
        "print(elma)\n"
      ],
      "metadata": {
        "colab": {
          "base_uri": "https://localhost:8080/"
        },
        "id": "Of78oEsCjuDG",
        "outputId": "9c147e3b-07e3-43b6-8735-00640787998e"
      },
      "execution_count": null,
      "outputs": [
        {
          "output_type": "stream",
          "name": "stdout",
          "text": [
            "[[[924 206 126 158 748]\n",
            "  [476 608 501 740 665]\n",
            "  [198 795 452 158 546]\n",
            "  [376 139 366 492 380]\n",
            "  [454 607 133 783 881]]\n",
            "\n",
            " [[495 834 502 628 459]\n",
            "  [425 793 764 694 667]\n",
            "  [722 814 567 721 778]\n",
            "  [958 901 806 642 551]\n",
            "  [765 892 507 301 551]]]\n"
          ]
        }
      ]
    },
    {
      "cell_type": "code",
      "source": [
        "elma.shape\n"
      ],
      "metadata": {
        "colab": {
          "base_uri": "https://localhost:8080/"
        },
        "id": "-C0P-696kGuv",
        "outputId": "bb7d0fe7-7791-42d0-8765-7be1fb1338b2"
      },
      "execution_count": null,
      "outputs": [
        {
          "output_type": "execute_result",
          "data": {
            "text/plain": [
              "(2, 5, 5)"
            ]
          },
          "metadata": {},
          "execution_count": 38
        }
      ]
    },
    {
      "cell_type": "code",
      "source": [
        "elma.ndim"
      ],
      "metadata": {
        "colab": {
          "base_uri": "https://localhost:8080/"
        },
        "id": "GBT6bqXakMmS",
        "outputId": "b1e48324-cd32-4c58-ff50-eb9ab932520d"
      },
      "execution_count": null,
      "outputs": [
        {
          "output_type": "execute_result",
          "data": {
            "text/plain": [
              "3"
            ]
          },
          "metadata": {},
          "execution_count": 39
        }
      ]
    },
    {
      "cell_type": "markdown",
      "source": [
        "# Soru 13"
      ],
      "metadata": {
        "id": "hMtHW81dkN_F"
      }
    },
    {
      "cell_type": "code",
      "source": [
        "karpuz = np.random.randint(0,101,10)\n",
        "print(karpuz)"
      ],
      "metadata": {
        "colab": {
          "base_uri": "https://localhost:8080/"
        },
        "id": "YvNuhRHckV88",
        "outputId": "4402417e-415b-4a96-9f19-1c71084b9137"
      },
      "execution_count": null,
      "outputs": [
        {
          "output_type": "stream",
          "name": "stdout",
          "text": [
            "[56 89 58 11 57 14 31 77 19 49]\n"
          ]
        }
      ]
    },
    {
      "cell_type": "code",
      "source": [
        "max(karpuz)"
      ],
      "metadata": {
        "colab": {
          "base_uri": "https://localhost:8080/"
        },
        "id": "_hsd_g0UlUTV",
        "outputId": "1a8b3c3c-57e5-4296-d5f6-49cf1af81517"
      },
      "execution_count": null,
      "outputs": [
        {
          "output_type": "execute_result",
          "data": {
            "text/plain": [
              "89"
            ]
          },
          "metadata": {},
          "execution_count": 49
        }
      ]
    },
    {
      "cell_type": "code",
      "source": [
        "min(karpuz)"
      ],
      "metadata": {
        "colab": {
          "base_uri": "https://localhost:8080/"
        },
        "id": "RyxUgeeIlcDK",
        "outputId": "d2c9a52b-c815-4fa2-ac65-daecb7abd5fe"
      },
      "execution_count": null,
      "outputs": [
        {
          "output_type": "execute_result",
          "data": {
            "text/plain": [
              "11"
            ]
          },
          "metadata": {},
          "execution_count": 50
        }
      ]
    },
    {
      "cell_type": "code",
      "source": [
        "karpuz.argmax()"
      ],
      "metadata": {
        "colab": {
          "base_uri": "https://localhost:8080/"
        },
        "id": "NkbiYUEMleNX",
        "outputId": "312d1260-da63-48be-800e-cafc4213ed33"
      },
      "execution_count": null,
      "outputs": [
        {
          "output_type": "execute_result",
          "data": {
            "text/plain": [
              "1"
            ]
          },
          "metadata": {},
          "execution_count": 51
        }
      ]
    },
    {
      "cell_type": "code",
      "source": [
        "karpuz.argmin()"
      ],
      "metadata": {
        "colab": {
          "base_uri": "https://localhost:8080/"
        },
        "id": "RtS1sGaslqKN",
        "outputId": "e8dfaee4-cecc-494c-e984-e4e861c8769b"
      },
      "execution_count": null,
      "outputs": [
        {
          "output_type": "execute_result",
          "data": {
            "text/plain": [
              "3"
            ]
          },
          "metadata": {},
          "execution_count": 52
        }
      ]
    },
    {
      "cell_type": "markdown",
      "source": [
        "# Soru 14"
      ],
      "metadata": {
        "id": "_HMXPogzlv87"
      }
    },
    {
      "cell_type": "code",
      "source": [
        "kivi = np.random.randint(300,501,(2,2,5))\n",
        "print(kivi)"
      ],
      "metadata": {
        "colab": {
          "base_uri": "https://localhost:8080/"
        },
        "id": "rALhBeSSlxSi",
        "outputId": "f0118fb2-9e2a-47f8-a559-73cddfa8fb27"
      },
      "execution_count": null,
      "outputs": [
        {
          "output_type": "stream",
          "name": "stdout",
          "text": [
            "[[[305 387 434 383 353]\n",
            "  [496 383 400 328 447]]\n",
            "\n",
            " [[411 367 350 435 419]\n",
            "  [335 368 348 389 447]]]\n"
          ]
        }
      ]
    },
    {
      "cell_type": "code",
      "source": [
        "kivi.argmax()"
      ],
      "metadata": {
        "colab": {
          "base_uri": "https://localhost:8080/"
        },
        "id": "9uJnRQ4UmNce",
        "outputId": "a4d16f46-d8c1-4d81-94d8-23a93bebbff7"
      },
      "execution_count": null,
      "outputs": [
        {
          "output_type": "execute_result",
          "data": {
            "text/plain": [
              "5"
            ]
          },
          "metadata": {},
          "execution_count": 60
        }
      ]
    },
    {
      "cell_type": "code",
      "source": [
        "kivi[0][1][0]"
      ],
      "metadata": {
        "colab": {
          "base_uri": "https://localhost:8080/"
        },
        "id": "XDsYCf-1p1WS",
        "outputId": "4bdb3a00-e087-42cb-eb39-c48d8cefd925"
      },
      "execution_count": null,
      "outputs": [
        {
          "output_type": "execute_result",
          "data": {
            "text/plain": [
              "496"
            ]
          },
          "metadata": {},
          "execution_count": 65
        }
      ]
    },
    {
      "cell_type": "code",
      "source": [
        "kivi[0][0][0]"
      ],
      "metadata": {
        "colab": {
          "base_uri": "https://localhost:8080/"
        },
        "id": "9kntc0aHruii",
        "outputId": "1657d04a-535e-4d6d-9ba7-639f2f49a1a8"
      },
      "execution_count": null,
      "outputs": [
        {
          "output_type": "execute_result",
          "data": {
            "text/plain": [
              "305"
            ]
          },
          "metadata": {},
          "execution_count": 66
        }
      ]
    },
    {
      "cell_type": "markdown",
      "source": [
        "# Soru 15"
      ],
      "metadata": {
        "id": "HrORUxqOqxuF"
      }
    },
    {
      "cell_type": "code",
      "source": [
        "kiraz = np.linspace(0,50,50,dtype=int)\n",
        "print(kiraz)"
      ],
      "metadata": {
        "colab": {
          "base_uri": "https://localhost:8080/"
        },
        "id": "HUf1LqMPqzGr",
        "outputId": "9a162920-c9a0-43a1-ba2b-9b76f09ac3dc"
      },
      "execution_count": null,
      "outputs": [
        {
          "output_type": "stream",
          "name": "stdout",
          "text": [
            "[ 0  1  2  3  4  5  6  7  8  9 10 11 12 13 14 15 16 17 18 19 20 21 22 23\n",
            " 24 25 26 27 28 29 30 31 32 33 34 35 36 37 38 39 40 41 42 43 44 45 46 47\n",
            " 48 50]\n"
          ]
        }
      ]
    },
    {
      "cell_type": "code",
      "source": [
        "kiraz[20:35] = 500\n",
        "print(kiraz)"
      ],
      "metadata": {
        "colab": {
          "base_uri": "https://localhost:8080/"
        },
        "id": "1PLJS3p0sXIn",
        "outputId": "34cf8de0-07ba-497b-c7cd-a8ee6581d271"
      },
      "execution_count": null,
      "outputs": [
        {
          "output_type": "stream",
          "name": "stdout",
          "text": [
            "[  0   1   2   3   4   5   6   7   8   9  10  11  12  13  14  15  16  17\n",
            "  18  19 500 500 500 500 500 500 500 500 500 500 500 500 500 500 500  35\n",
            "  36  37  38  39  40  41  42  43  44  45  46  47  48  50]\n"
          ]
        }
      ]
    }
  ]
}